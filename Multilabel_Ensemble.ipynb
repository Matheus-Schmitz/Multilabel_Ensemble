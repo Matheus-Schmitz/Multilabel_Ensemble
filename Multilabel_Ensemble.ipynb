{
 "cells": [
  {
   "cell_type": "markdown",
   "id": "554c784a",
   "metadata": {},
   "source": [
    "# Multilabel Ensemble"
   ]
  },
  {
   "cell_type": "markdown",
   "id": "331c30fb",
   "metadata": {},
   "source": [
    "<p>Matheus Schmitz<br>\n",
    "<a href=\"https://www.linkedin.com/in/matheusschmitz/\">LinkedIn</a><br>\n",
    "<a href=\"https://matheus-schmitz.github.io/\">Github Portfolio</a></p>"
   ]
  },
  {
   "cell_type": "markdown",
   "id": "4f4bb517",
   "metadata": {},
   "source": [
    "Performance comparison for a multilabel class on using a single Random Forest Classifier versus an ensemble whose head is also a Random Forest Classifier."
   ]
  },
  {
   "cell_type": "markdown",
   "id": "78f3a7c3",
   "metadata": {},
   "source": [
    "The dataset is a multi-label classification problem with 6 different labels: {Beach, Sunset, FallFoliage, Field, Mountain, Urban.  \n",
    "Multilabel Scenes Dataset Source: https://sourceforge.net/projects/mulan/files/datasets/scene.rar"
   ]
  },
  {
   "cell_type": "markdown",
   "id": "044f0faf",
   "metadata": {},
   "source": [
    "## Load Data"
   ]
  },
  {
   "cell_type": "code",
   "execution_count": 122,
   "id": "0c6e26c9",
   "metadata": {},
   "outputs": [],
   "source": [
    "import numpy as np\n",
    "import pandas as pd\n",
    "from scipy.io.arff import loadarff "
   ]
  },
  {
   "cell_type": "code",
   "execution_count": 123,
   "id": "169d5bb4",
   "metadata": {},
   "outputs": [],
   "source": [
    "# Load data\n",
    "aarf_train = loadarff('data/scene-train.arff')\n",
    "df_train = pd.DataFrame(aarf_train[0])\n",
    "\n",
    "aarf_test = loadarff('data/scene-test.arff')\n",
    "df_test = pd.DataFrame(aarf_test[0])\n",
    "\n",
    "# Convert labels read as bytes into integers\n",
    "for label in ['Beach','Sunset','FallFoliage','Field','Mountain','Urban']:\n",
    "    df_train[label] = df_train[label].str.decode(\"utf-8\")\n",
    "    df_train[label] = df_train[label].astype(int)\n",
    "    df_test[label] = df_test[label].str.decode(\"utf-8\")\n",
    "    df_test[label] = df_test[label].astype(int)"
   ]
  },
  {
   "cell_type": "code",
   "execution_count": 124,
   "id": "5b123755",
   "metadata": {},
   "outputs": [],
   "source": [
    "# Split X and Y\n",
    "X_train = df_train.drop(['Beach','Sunset','FallFoliage','Field','Mountain','Urban'], axis=1)\n",
    "y_train = df_train[['Beach','Sunset','FallFoliage','Field','Mountain','Urban']]\n",
    "\n",
    "X_test = df_test.drop(['Beach','Sunset','FallFoliage','Field','Mountain','Urban'], axis=1)\n",
    "y_test = df_test[['Beach','Sunset','FallFoliage','Field','Mountain','Urban']]"
   ]
  },
  {
   "cell_type": "markdown",
   "id": "fe89e9cd",
   "metadata": {},
   "source": [
    "## Models"
   ]
  },
  {
   "cell_type": "code",
   "execution_count": 125,
   "id": "ec17ad3e",
   "metadata": {},
   "outputs": [],
   "source": [
    "# Scikit-Learn utility for conversing single label models into multilabel\n",
    "from sklearn.multioutput import MultiOutputClassifier, ClassifierChain"
   ]
  },
  {
   "cell_type": "code",
   "execution_count": 126,
   "id": "88989319",
   "metadata": {},
   "outputs": [],
   "source": [
    "# Support Vector Machine\n",
    "from sklearn.svm import SVC\n",
    "\n",
    "model1 = ClassifierChain(SVC())\n",
    "model1.fit(X_train, y_train)\n",
    "predictions1_train = pd.DataFrame(model1.predict(X_train))\n",
    "predictions1_test = pd.DataFrame(model1.predict(X_test))"
   ]
  },
  {
   "cell_type": "code",
   "execution_count": 127,
   "id": "33adba53",
   "metadata": {},
   "outputs": [],
   "source": [
    "# KNN\n",
    "from sklearn.neighbors import KNeighborsClassifier\n",
    "\n",
    "model2 = KNeighborsClassifier()\n",
    "model2.fit(X_train, y_train)\n",
    "predictions2_train = pd.DataFrame(model2.predict(X_train))\n",
    "predictions2_test = pd.DataFrame(model2.predict(X_test))"
   ]
  },
  {
   "cell_type": "code",
   "execution_count": 128,
   "id": "9965642c",
   "metadata": {},
   "outputs": [],
   "source": [
    "# Naive Bayes\n",
    "from sklearn.naive_bayes import GaussianNB\n",
    "\n",
    "model3 = ClassifierChain(GaussianNB())\n",
    "model3.fit(X_train, y_train)\n",
    "predictions3_train = pd.DataFrame(model3.predict(X_train))\n",
    "predictions3_test = pd.DataFrame(model3.predict(X_test))"
   ]
  },
  {
   "cell_type": "code",
   "execution_count": 129,
   "id": "35f2b3d3",
   "metadata": {},
   "outputs": [],
   "source": [
    "# Linear Discriminant Analysis\n",
    "from sklearn.discriminant_analysis import LinearDiscriminantAnalysis\n",
    "\n",
    "model4 = ClassifierChain(LinearDiscriminantAnalysis())\n",
    "model4.fit(X_train, y_train)\n",
    "predictions4_train = pd.DataFrame(model4.predict(X_train))\n",
    "predictions4_test = pd.DataFrame(model4.predict(X_test))"
   ]
  },
  {
   "cell_type": "code",
   "execution_count": 130,
   "id": "1dd3273b",
   "metadata": {},
   "outputs": [],
   "source": [
    "# Logistic Regression\n",
    "from sklearn.linear_model import LogisticRegression\n",
    "\n",
    "model5 = ClassifierChain(LogisticRegression(max_iter=500))\n",
    "model5.fit(X_train, y_train)\n",
    "predictions5_train = pd.DataFrame(model5.predict(X_train))\n",
    "predictions5_test = pd.DataFrame(model5.predict(X_test))"
   ]
  },
  {
   "cell_type": "code",
   "execution_count": 131,
   "id": "18294c1c",
   "metadata": {},
   "outputs": [],
   "source": [
    "# Multi-Layer Perceptron\n",
    "from sklearn.neural_network import MLPClassifier\n",
    "\n",
    "model6 = MLPClassifier(max_iter=1000)\n",
    "model6.fit(X_train, y_train)\n",
    "predictions6_train = pd.DataFrame(model6.predict(X_train))\n",
    "predictions6_test = pd.DataFrame(model6.predict(X_test))"
   ]
  },
  {
   "cell_type": "code",
   "execution_count": 132,
   "id": "5d944ca3",
   "metadata": {},
   "outputs": [],
   "source": [
    "# Gaussian Process\n",
    "from sklearn.gaussian_process import GaussianProcessClassifier\n",
    "\n",
    "model7 = ClassifierChain(GaussianProcessClassifier())\n",
    "model7.fit(X_train, y_train)\n",
    "predictions7_train = pd.DataFrame(model7.predict(X_train))\n",
    "predictions7_test = pd.DataFrame(model7.predict(X_test))"
   ]
  },
  {
   "cell_type": "code",
   "execution_count": 133,
   "id": "5a0dd4e2",
   "metadata": {},
   "outputs": [],
   "source": [
    "# Gradient Boosting\n",
    "from sklearn.ensemble import GradientBoostingClassifier\n",
    "\n",
    "model8 = ClassifierChain(GradientBoostingClassifier())\n",
    "model8.fit(X_train, y_train)\n",
    "predictions8_train = pd.DataFrame(model8.predict(X_train))\n",
    "predictions8_test = pd.DataFrame(model8.predict(X_test))"
   ]
  },
  {
   "cell_type": "markdown",
   "id": "c00cccfe",
   "metadata": {},
   "source": [
    "## Ensemble"
   ]
  },
  {
   "cell_type": "code",
   "execution_count": 142,
   "id": "7f209a05",
   "metadata": {},
   "outputs": [],
   "source": [
    "# Generate ensemble feature sets\n",
    "X_train_ensemble = pd.concat([X_train, predictions1_train, predictions2_train, \n",
    "                               predictions3_train, predictions4_train, predictions5_train,\n",
    "                               predictions6_train, predictions7_train, predictions8_train], axis=1)\n",
    "\n",
    "\n",
    "# X_train_ensemble = pd.concat([X_train, y_train, y_train, \n",
    "#                                y_train, y_train, y_train,\n",
    "#                                y_train, y_train, y_train], axis=1)\n",
    "\n",
    "\n",
    "X_test_ensemble = pd.concat([X_test, predictions1_test, predictions2_test, \n",
    "                               predictions3_test, predictions4_test, predictions5_test,\n",
    "                               predictions6_test, predictions7_test, predictions8_test], axis=1)"
   ]
  },
  {
   "cell_type": "code",
   "execution_count": 149,
   "id": "b559afc7",
   "metadata": {},
   "outputs": [],
   "source": [
    "# Random Forest\n",
    "from sklearn.ensemble import RandomForestClassifier\n",
    "\n",
    "model_ensemble = RandomForestClassifier()\n",
    "model_ensemble.fit(X_train_ensemble, y_train)\n",
    "predictions_ensemble_train = model_ensemble.predict(X_train_ensemble)\n",
    "predictions_ensemble_test = model_ensemble.predict(X_test_ensemble)"
   ]
  },
  {
   "cell_type": "markdown",
   "id": "5b91724e",
   "metadata": {},
   "source": [
    "## Simple Model"
   ]
  },
  {
   "cell_type": "code",
   "execution_count": 150,
   "id": "5573725e",
   "metadata": {},
   "outputs": [],
   "source": [
    "# Random Forest\n",
    "from sklearn.ensemble import RandomForestClassifier\n",
    "\n",
    "model_simple = RandomForestClassifier()\n",
    "model_simple.fit(X_train, y_train)\n",
    "predictions_simple_train = model_simple.predict(X_train)\n",
    "predictions_simple_test = model_simple.predict(X_test)"
   ]
  },
  {
   "cell_type": "markdown",
   "id": "2f92d086",
   "metadata": {},
   "source": [
    "## Compare Models"
   ]
  },
  {
   "cell_type": "code",
   "execution_count": 151,
   "id": "559a6871",
   "metadata": {},
   "outputs": [
    {
     "name": "stdout",
     "output_type": "stream",
     "text": [
      "Simple Accuracy Score : 50.669 %\n",
      "Ensemble Accuracy Score: 63.127 %\n",
      "\n",
      "Simple Hamming Score : 90.914 %\n",
      "Ensemble Hamming Score: 91.207 %\n"
     ]
    }
   ],
   "source": [
    "from sklearn.metrics import accuracy_score, hamming_loss\n",
    "\n",
    "simple_accuracy_score = accuracy_score(y_test, predictions_simple_test)\n",
    "ensemble_accuracy_score = accuracy_score(y_test, predictions_ensemble_test)\n",
    "\n",
    "simple_hamming_score = 1 - hamming_loss(y_test, predictions_simple_test)\n",
    "ensemble_hamming_score = 1 - hamming_loss(y_test, predictions_ensemble_test)\n",
    "\n",
    "\n",
    "print(f\"Simple Accuracy Score : {100*simple_exatch_match:.3f} %\")\n",
    "print(f\"Ensemble Accuracy Score: {100*ensemble_exatch_match:.3f} %\")\n",
    "print()\n",
    "print(f\"Simple Hamming Score : {100*simple_hamming_score:.3f} %\")\n",
    "print(f\"Ensemble Hamming Score: {100*ensemble_hamming_score:.3f} %\")"
   ]
  },
  {
   "cell_type": "markdown",
   "id": "963b64f2",
   "metadata": {},
   "source": [
    "# End\n",
    "<p>Matheus Schmitz<br>\n",
    "<a href=\"https://www.linkedin.com/in/matheusschmitz/\">LinkedIn</a><br>\n",
    "<a href=\"https://matheus-schmitz.github.io/\">Github Portfolio</a></p>"
   ]
  }
 ],
 "metadata": {
  "kernelspec": {
   "display_name": "Python 3",
   "language": "python",
   "name": "python3"
  },
  "language_info": {
   "codemirror_mode": {
    "name": "ipython",
    "version": 3
   },
   "file_extension": ".py",
   "mimetype": "text/x-python",
   "name": "python",
   "nbconvert_exporter": "python",
   "pygments_lexer": "ipython3",
   "version": "3.7.10"
  }
 },
 "nbformat": 4,
 "nbformat_minor": 5
}
